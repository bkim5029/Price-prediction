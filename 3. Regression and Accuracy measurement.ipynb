{
 "cells": [
  {
   "cell_type": "markdown",
   "id": "f3241fed",
   "metadata": {},
   "source": [
    "# Regression Analysis\n",
    "Predicting another variable on the basis of other variables"
   ]
  },
  {
   "cell_type": "code",
   "execution_count": 38,
   "id": "5715e637",
   "metadata": {},
   "outputs": [],
   "source": [
    "import pandas as pd\n",
    "import numpy as np\n",
    "from sklearn.linear_model import LinearRegression\n",
    "from matplotlib import pyplot as plt"
   ]
  },
  {
   "cell_type": "code",
   "execution_count": 39,
   "id": "0e7f5404",
   "metadata": {},
   "outputs": [
    {
     "data": {
      "text/html": [
       "<div>\n",
       "<style scoped>\n",
       "    .dataframe tbody tr th:only-of-type {\n",
       "        vertical-align: middle;\n",
       "    }\n",
       "\n",
       "    .dataframe tbody tr th {\n",
       "        vertical-align: top;\n",
       "    }\n",
       "\n",
       "    .dataframe thead th {\n",
       "        text-align: right;\n",
       "    }\n",
       "</style>\n",
       "<table border=\"1\" class=\"dataframe\">\n",
       "  <thead>\n",
       "    <tr style=\"text-align: right;\">\n",
       "      <th></th>\n",
       "      <th>symboling</th>\n",
       "      <th>normalized-losses</th>\n",
       "      <th>make</th>\n",
       "      <th>fuel-type</th>\n",
       "      <th>aspiration</th>\n",
       "      <th>num-of-doors</th>\n",
       "      <th>body-style</th>\n",
       "      <th>drive-wheels</th>\n",
       "      <th>engine-location</th>\n",
       "      <th>wheel-base</th>\n",
       "      <th>...</th>\n",
       "      <th>fuel-system</th>\n",
       "      <th>bore</th>\n",
       "      <th>stroke</th>\n",
       "      <th>compression-ratio</th>\n",
       "      <th>horsepower</th>\n",
       "      <th>peak-rpm</th>\n",
       "      <th>city-mpg</th>\n",
       "      <th>highway-mpg</th>\n",
       "      <th>price</th>\n",
       "      <th>horsepower-binned</th>\n",
       "    </tr>\n",
       "  </thead>\n",
       "  <tbody>\n",
       "    <tr>\n",
       "      <th>0</th>\n",
       "      <td>3</td>\n",
       "      <td>122.0</td>\n",
       "      <td>alfa-romero</td>\n",
       "      <td>gas</td>\n",
       "      <td>std</td>\n",
       "      <td>two</td>\n",
       "      <td>convertible</td>\n",
       "      <td>rwd</td>\n",
       "      <td>front</td>\n",
       "      <td>88.6</td>\n",
       "      <td>...</td>\n",
       "      <td>mpfi</td>\n",
       "      <td>3.47</td>\n",
       "      <td>2.68</td>\n",
       "      <td>9.0</td>\n",
       "      <td>111</td>\n",
       "      <td>5000</td>\n",
       "      <td>21</td>\n",
       "      <td>27</td>\n",
       "      <td>13495</td>\n",
       "      <td>Low</td>\n",
       "    </tr>\n",
       "    <tr>\n",
       "      <th>1</th>\n",
       "      <td>3</td>\n",
       "      <td>122.0</td>\n",
       "      <td>alfa-romero</td>\n",
       "      <td>gas</td>\n",
       "      <td>std</td>\n",
       "      <td>two</td>\n",
       "      <td>convertible</td>\n",
       "      <td>rwd</td>\n",
       "      <td>front</td>\n",
       "      <td>88.6</td>\n",
       "      <td>...</td>\n",
       "      <td>mpfi</td>\n",
       "      <td>3.47</td>\n",
       "      <td>2.68</td>\n",
       "      <td>9.0</td>\n",
       "      <td>111</td>\n",
       "      <td>5000</td>\n",
       "      <td>21</td>\n",
       "      <td>27</td>\n",
       "      <td>16500</td>\n",
       "      <td>Low</td>\n",
       "    </tr>\n",
       "    <tr>\n",
       "      <th>2</th>\n",
       "      <td>1</td>\n",
       "      <td>122.0</td>\n",
       "      <td>alfa-romero</td>\n",
       "      <td>gas</td>\n",
       "      <td>std</td>\n",
       "      <td>two</td>\n",
       "      <td>hatchback</td>\n",
       "      <td>rwd</td>\n",
       "      <td>front</td>\n",
       "      <td>94.5</td>\n",
       "      <td>...</td>\n",
       "      <td>mpfi</td>\n",
       "      <td>2.68</td>\n",
       "      <td>3.47</td>\n",
       "      <td>9.0</td>\n",
       "      <td>154</td>\n",
       "      <td>5000</td>\n",
       "      <td>19</td>\n",
       "      <td>26</td>\n",
       "      <td>16500</td>\n",
       "      <td>Medium</td>\n",
       "    </tr>\n",
       "    <tr>\n",
       "      <th>3</th>\n",
       "      <td>2</td>\n",
       "      <td>164.0</td>\n",
       "      <td>audi</td>\n",
       "      <td>gas</td>\n",
       "      <td>std</td>\n",
       "      <td>four</td>\n",
       "      <td>sedan</td>\n",
       "      <td>fwd</td>\n",
       "      <td>front</td>\n",
       "      <td>99.8</td>\n",
       "      <td>...</td>\n",
       "      <td>mpfi</td>\n",
       "      <td>3.19</td>\n",
       "      <td>3.40</td>\n",
       "      <td>10.0</td>\n",
       "      <td>102</td>\n",
       "      <td>5500</td>\n",
       "      <td>24</td>\n",
       "      <td>30</td>\n",
       "      <td>13950</td>\n",
       "      <td>Low</td>\n",
       "    </tr>\n",
       "    <tr>\n",
       "      <th>4</th>\n",
       "      <td>2</td>\n",
       "      <td>164.0</td>\n",
       "      <td>audi</td>\n",
       "      <td>gas</td>\n",
       "      <td>std</td>\n",
       "      <td>four</td>\n",
       "      <td>sedan</td>\n",
       "      <td>4wd</td>\n",
       "      <td>front</td>\n",
       "      <td>99.4</td>\n",
       "      <td>...</td>\n",
       "      <td>mpfi</td>\n",
       "      <td>3.19</td>\n",
       "      <td>3.40</td>\n",
       "      <td>8.0</td>\n",
       "      <td>115</td>\n",
       "      <td>5500</td>\n",
       "      <td>18</td>\n",
       "      <td>22</td>\n",
       "      <td>17450</td>\n",
       "      <td>Low</td>\n",
       "    </tr>\n",
       "  </tbody>\n",
       "</table>\n",
       "<p>5 rows × 27 columns</p>\n",
       "</div>"
      ],
      "text/plain": [
       "   symboling  normalized-losses         make fuel-type aspiration  \\\n",
       "0          3              122.0  alfa-romero       gas        std   \n",
       "1          3              122.0  alfa-romero       gas        std   \n",
       "2          1              122.0  alfa-romero       gas        std   \n",
       "3          2              164.0         audi       gas        std   \n",
       "4          2              164.0         audi       gas        std   \n",
       "\n",
       "  num-of-doors   body-style drive-wheels engine-location  wheel-base  ...  \\\n",
       "0          two  convertible          rwd           front        88.6  ...   \n",
       "1          two  convertible          rwd           front        88.6  ...   \n",
       "2          two    hatchback          rwd           front        94.5  ...   \n",
       "3         four        sedan          fwd           front        99.8  ...   \n",
       "4         four        sedan          4wd           front        99.4  ...   \n",
       "\n",
       "   fuel-system  bore  stroke  compression-ratio horsepower peak-rpm  city-mpg  \\\n",
       "0         mpfi  3.47    2.68                9.0        111     5000        21   \n",
       "1         mpfi  3.47    2.68                9.0        111     5000        21   \n",
       "2         mpfi  2.68    3.47                9.0        154     5000        19   \n",
       "3         mpfi  3.19    3.40               10.0        102     5500        24   \n",
       "4         mpfi  3.19    3.40                8.0        115     5500        18   \n",
       "\n",
       "  highway-mpg  price  horsepower-binned  \n",
       "0          27  13495                Low  \n",
       "1          27  16500                Low  \n",
       "2          26  16500             Medium  \n",
       "3          30  13950                Low  \n",
       "4          22  17450                Low  \n",
       "\n",
       "[5 rows x 27 columns]"
      ]
     },
     "execution_count": 39,
     "metadata": {},
     "output_type": "execute_result"
    }
   ],
   "source": [
    "df = pd.read_csv('cleaned_car_data.csv')\n",
    "df.head(5)"
   ]
  },
  {
   "cell_type": "markdown",
   "id": "c7b3058a",
   "metadata": {},
   "source": [
    "# Simple Linear Regression\n",
    "This helps us understand the relationship between two variables\n",
    "- Predictor/independent variable (X)\n",
    "- Response/dependent variable (Y)\n",
    "\n",
    "Yhat = a + bX\n",
    "- a and b can be determined using sklearn"
   ]
  },
  {
   "cell_type": "markdown",
   "id": "0edd8bf0",
   "metadata": {},
   "source": [
    "how highway-mpg (independent) can help us predict car price (dependent)"
   ]
  },
  {
   "cell_type": "code",
   "execution_count": 40,
   "id": "0ec590ea",
   "metadata": {},
   "outputs": [],
   "source": [
    "x = df[['highway-mpg']]\n",
    "y = df['price']  # y value should not be in dataframe like x because you would want the predicted outcome to be one array"
   ]
  },
  {
   "cell_type": "markdown",
   "id": "7ef47bd3",
   "metadata": {},
   "source": [
    "Creating a linear regression object and fitting the model using the X and Y variables"
   ]
  },
  {
   "cell_type": "code",
   "execution_count": 41,
   "id": "c85d4437",
   "metadata": {},
   "outputs": [
    {
     "data": {
      "text/plain": [
       "LinearRegression()"
      ]
     },
     "execution_count": 41,
     "metadata": {},
     "output_type": "execute_result"
    }
   ],
   "source": [
    "lm = LinearRegression()\n",
    "lm.fit(x,y)"
   ]
  },
  {
   "cell_type": "markdown",
   "id": "65677d5c",
   "metadata": {},
   "source": [
    "Printing out prediction result (X is the indepdent variable and Y is the outcome)"
   ]
  },
  {
   "cell_type": "code",
   "execution_count": 42,
   "id": "f55effd1",
   "metadata": {},
   "outputs": [
    {
     "data": {
      "text/plain": [
       "array([16236.50464347, 16236.50464347, 17058.23802179, 13771.3045085 ,\n",
       "       20345.17153508])"
      ]
     },
     "execution_count": 42,
     "metadata": {},
     "output_type": "execute_result"
    }
   ],
   "source": [
    "y_predict=lm.predict(x)\n",
    "y_predict[0:5]   "
   ]
  },
  {
   "cell_type": "markdown",
   "id": "5aec7347",
   "metadata": {},
   "source": [
    "We can also figure out `a` (regression line intercept) and `b` (slope of the regression line)"
   ]
  },
  {
   "cell_type": "code",
   "execution_count": 19,
   "id": "116a7ed0",
   "metadata": {},
   "outputs": [
    {
     "data": {
      "text/plain": [
       "38423.305858157386"
      ]
     },
     "execution_count": 19,
     "metadata": {},
     "output_type": "execute_result"
    }
   ],
   "source": [
    "lm.intercept_"
   ]
  },
  {
   "cell_type": "code",
   "execution_count": 20,
   "id": "0f60e3b6",
   "metadata": {},
   "outputs": [
    {
     "data": {
      "text/plain": [
       "array([-821.73337832])"
      ]
     },
     "execution_count": 20,
     "metadata": {},
     "output_type": "execute_result"
    }
   ],
   "source": [
    "lm.coef_"
   ]
  },
  {
   "cell_type": "markdown",
   "id": "d0e08f8d",
   "metadata": {},
   "source": [
    "$$\n",
    "Yhat = a + b  X\n",
    "$$\n",
    "We get the final linear model of\n",
    "- <b>Price</b> = 38423.31 - 821.73 x <b>highway-mpg</b>"
   ]
  },
  {
   "cell_type": "markdown",
   "id": "5fdd742b",
   "metadata": {},
   "source": [
    "# Regression Plot\n",
    "- It is used to visualize simple linear regression"
   ]
  },
  {
   "cell_type": "markdown",
   "id": "78d06b77",
   "metadata": {},
   "source": [
    "Visualing highway-mpg as predictor (independent variable) of price"
   ]
  },
  {
   "cell_type": "code",
   "execution_count": 21,
   "id": "07164249",
   "metadata": {},
   "outputs": [],
   "source": [
    "import seaborn as sns\n",
    "%matplotlib inline "
   ]
  },
  {
   "cell_type": "code",
   "execution_count": 22,
   "id": "a8c9cc03",
   "metadata": {},
   "outputs": [
    {
     "data": {
      "text/plain": [
       "(0.0, 48183.869595017175)"
      ]
     },
     "execution_count": 22,
     "metadata": {},
     "output_type": "execute_result"
    },
    {
     "data": {
      "image/png": "[encoded data removed]",
      "text/plain": [
       "<Figure size 864x720 with 1 Axes>"
      ]
     },
     "metadata": {
      "needs_background": "light"
     },
     "output_type": "display_data"
    }
   ],
   "source": [
    "width = 12\n",
    "height = 10\n",
    "plt.figure(figsize=(width, height))\n",
    "sns.regplot(x=\"highway-mpg\", y=\"price\", data=df)\n",
    "plt.ylim(0,) # makes the lowest y point to 0 "
   ]
  },
  {
   "cell_type": "markdown",
   "id": "6afd1cf6",
   "metadata": {},
   "source": [
    "As you can see from the graph, price is negarively correlated to highway-mpg"
   ]
  },
  {
   "cell_type": "markdown",
   "id": "27c0bce3",
   "metadata": {},
   "source": [
    "# Residual Plot\n",
    "Residual plot measures the variance between my linear model and the actual data point\n",
    "\n",
    "This plot shows if my linear model is appropriate \n",
    "- Good way to visualize the variance of the data\n",
    "- Residual = difference between actual value and predicted value.\n",
    "\n",
    "\n",
    "If the points are <b>randomly spread out around the x-axis</b> then the model is appropriate because it means that the variance is constant\n"
   ]
  },
  {
   "cell_type": "code",
   "execution_count": 23,
   "id": "654d715b",
   "metadata": {},
   "outputs": [
    {
     "name": "stderr",
     "output_type": "stream",
     "text": [
      "C:\\Users\\bkim5\\anaconda3\\lib\\site-packages\\seaborn\\_decorators.py:36: FutureWarning: Pass the following variables as keyword args: x, y. From version 0.12, the only valid positional argument will be `data`, and passing other arguments without an explicit keyword will result in an error or misinterpretation.\n",
      "  warnings.warn(\n"
     ]
    },
    {
     "data": {
      "image/png": "[encoded data removed]",
      "text/plain": [
       "<Figure size 864x720 with 1 Axes>"
      ]
     },
     "metadata": {
      "needs_background": "light"
     },
     "output_type": "display_data"
    }
   ],
   "source": [
    "width = 12\n",
    "height = 10\n",
    "plt.figure(figsize=(width, height))\n",
    "x = df[['highway-mpg']]\n",
    "y = df[['price']]\n",
    "sns.residplot(x, y)\n",
    "plt.show()"
   ]
  },
  {
   "cell_type": "markdown",
   "id": "436117de",
   "metadata": {},
   "source": [
    "This plot tells us that residual points are not randomly spread around x-axis so, it is leading us to believe that non-linear model is more appropriate "
   ]
  },
  {
   "cell_type": "markdown",
   "id": "9af3d270",
   "metadata": {},
   "source": [
    "# Distribution plot\n",
    "- Can visually see the distribution of the predicted values and actual values.\n",
    "- It is also used to visualize a model for Multiple Linear Regression"
   ]
  },
  {
   "cell_type": "code",
   "execution_count": 50,
   "id": "ad59904b",
   "metadata": {},
   "outputs": [],
   "source": [
    "z = df[['horsepower', 'curb-weight', 'engine-size', 'highway-mpg']]\n",
    "y = df['price']"
   ]
  },
  {
   "cell_type": "code",
   "execution_count": 51,
   "id": "4edfc139",
   "metadata": {},
   "outputs": [
    {
     "data": {
      "text/plain": [
       "LinearRegression()"
      ]
     },
     "execution_count": 51,
     "metadata": {},
     "output_type": "execute_result"
    }
   ],
   "source": [
    "lm.fit(z, y)"
   ]
  },
  {
   "cell_type": "code",
   "execution_count": 52,
   "id": "97207d65",
   "metadata": {},
   "outputs": [
    {
     "data": {
      "text/plain": [
       "array([13699.07700462, 13699.07700462, 19052.71346719, 10620.61524404,\n",
       "       15520.90025344])"
      ]
     },
     "execution_count": 52,
     "metadata": {},
     "output_type": "execute_result"
    }
   ],
   "source": [
    "y_predict=lm.predict(z)\n",
    "y_predict[0:5]"
   ]
  },
  {
   "cell_type": "code",
   "execution_count": 53,
   "id": "7d84d03e",
   "metadata": {},
   "outputs": [
    {
     "name": "stderr",
     "output_type": "stream",
     "text": [
      "C:\\Users\\bkim5\\anaconda3\\lib\\site-packages\\seaborn\\distributions.py:2557: FutureWarning: `distplot` is a deprecated function and will be removed in a future version. Please adapt your code to use either `displot` (a figure-level function with similar flexibility) or `kdeplot` (an axes-level function for kernel density plots).\n",
      "  warnings.warn(msg, FutureWarning)\n",
      "C:\\Users\\bkim5\\anaconda3\\lib\\site-packages\\seaborn\\distributions.py:2557: FutureWarning: `distplot` is a deprecated function and will be removed in a future version. Please adapt your code to use either `displot` (a figure-level function with similar flexibility) or `kdeplot` (an axes-level function for kernel density plots).\n",
      "  warnings.warn(msg, FutureWarning)\n"
     ]
    },
    {
     "data": {
      "image/png": "[encoded data removed]",
      "text/plain": [
       "<Figure size 864x720 with 1 Axes>"
      ]
     },
     "metadata": {
      "needs_background": "light"
     },
     "output_type": "display_data"
    }
   ],
   "source": [
    "plt.figure(figsize=(width, height))\n",
    "\n",
    "ax1 = sns.distplot(df['price'], hist=False, color=\"r\", label='Actual data') #actual price data\n",
    "sns.distplot(y_predict, hist=False, color=\"b\", ax=ax1, label = 'Predicted data') #predicted price data\n",
    "plt.legend()\n",
    "\n",
    "# hist=False gets rid of bar histogramf\n",
    "# ax=ax1 combines the two graphs into one\n",
    "\n",
    "plt.title('Actual vs Fitted Values for Price')\n",
    "plt.xlabel('Price (in dollars)')\n",
    "plt.ylabel('Proportion of Cars')\n",
    "\n",
    "plt.show()\n",
    "plt.close()"
   ]
  },
  {
   "cell_type": "markdown",
   "id": "f7ce66ea",
   "metadata": {},
   "source": [
    "We can see that the predicted values are close to actual values since they overlap a bit but not accurate when prices increase"
   ]
  },
  {
   "cell_type": "markdown",
   "id": "e4adb2bb",
   "metadata": {},
   "source": [
    "# Polynomial Regression\n",
    "- Useful for describing curvilinear relationship.\n",
    "\n",
    "\n",
    "Different orders of polynomial regression:\n",
    "<center><b>Quadratic - 2nd Order</b></center>\n",
    "$$\n",
    "Yhat = a + b_1 X +b_2 X^2 \n",
    "$$\n",
    "\n",
    "\n",
    "\n",
    "<center><b>Cubic - 3rd Order</b></center>\n",
    "$$\n",
    "Yhat = a + b_1 X +b_2 X^2 +b_3 X^3\\\\\\\\\n",
    "$$\n",
    "\n",
    "<center><b>Higher-Order</b>:</center>\n",
    "$$\n",
    "Y = a + b_1 X +b_2 X^2 +b_3 X^3 ....\\\\\\\\\n",
    "$$"
   ]
  },
  {
   "cell_type": "markdown",
   "id": "656616c6",
   "metadata": {},
   "source": [
    "Creating a function to plot polynomial function"
   ]
  },
  {
   "cell_type": "code",
   "execution_count": 54,
   "id": "5d568fb6",
   "metadata": {},
   "outputs": [
    {
     "data": {
      "text/plain": [
       "16"
      ]
     },
     "execution_count": 54,
     "metadata": {},
     "output_type": "execute_result"
    }
   ],
   "source": [
    "df['highway-mpg'].min()"
   ]
  },
  {
   "cell_type": "code",
   "execution_count": 55,
   "id": "75a629d0",
   "metadata": {},
   "outputs": [
    {
     "data": {
      "text/plain": [
       "54"
      ]
     },
     "execution_count": 55,
     "metadata": {},
     "output_type": "execute_result"
    }
   ],
   "source": [
    "df['highway-mpg'].max()"
   ]
  },
  {
   "cell_type": "code",
   "execution_count": 56,
   "id": "4e226235",
   "metadata": {},
   "outputs": [],
   "source": [
    "def PlotPolly(model, independent_variable, dependent_variabble, Name):\n",
    "    # provides 100 test points starting from i_var min and i_var max\n",
    "    x_new = np.linspace(independent_variable.min(), independent_variable.max(), 100)\n",
    "    y_new = model(x_new)\n",
    "\n",
    "    plt.plot(independent_variable, dependent_variabble, '.', x_new, y_new)\n",
    "    plt.title('Polynomial Fit with Matplotlib for Price ~ Length')\n",
    "    \n",
    "    plt.xlabel(Name)\n",
    "    plt.ylabel('Price of Cars')\n",
    "\n",
    "    plt.show()\n",
    "    plt.close()"
   ]
  },
  {
   "cell_type": "markdown",
   "id": "d4328aef",
   "metadata": {},
   "source": [
    "Let's fit the polynomial using the function in numpy <b>polyfit</b>, then use the function <b>poly1d</b> to display the polynomial function."
   ]
  },
  {
   "cell_type": "code",
   "execution_count": 57,
   "id": "218e0bac",
   "metadata": {},
   "outputs": [
    {
     "name": "stdout",
     "output_type": "stream",
     "text": [
      "        3         2\n",
      "-1.557 x + 204.8 x - 8965 x + 1.379e+05 \n",
      "\n",
      "[-1.55663829e+00  2.04754306e+02 -8.96543312e+03  1.37923594e+05]\n"
     ]
    }
   ],
   "source": [
    "x = df['highway-mpg']\n",
    "y = df['price']\n",
    "function = np.polyfit(x, y, 3)\n",
    "model = np.poly1d(function)\n",
    "print(model,'\\n')\n",
    "print(function)"
   ]
  },
  {
   "cell_type": "code",
   "execution_count": 58,
   "id": "4b389413",
   "metadata": {},
   "outputs": [
    {
     "data": {
      "image/png": "[encoded data removed]",
      "text/plain": [
       "<Figure size 432x288 with 1 Axes>"
      ]
     },
     "metadata": {
      "needs_background": "light"
     },
     "output_type": "display_data"
    }
   ],
   "source": [
    "PlotPolly(model, x, y, 'highway-mpg')"
   ]
  },
  {
   "cell_type": "markdown",
   "id": "c5840d1c",
   "metadata": {},
   "source": [
    "This polynomial model performs better than the linear model because the polynomial function 'hits' more data points"
   ]
  },
  {
   "cell_type": "markdown",
   "id": "44b30784",
   "metadata": {},
   "source": [
    "# Determining the accuracy of our model\n",
    "- R^2: Measures how close each data is to the regression line. It tells us how well our regression model predicts actual value\n",
    "    - Higher the R^2 value, more accurate our model is\n",
    "- MSE: It measures residual error, the difference between actual value and predicted value then squaring.\n",
    "    - Lesser the value, more accurate/efficient our model is\n",
    "    - Large MSE means that my data values are dispersed widely around the mean value"
   ]
  },
  {
   "cell_type": "markdown",
   "id": "4ebf72fd",
   "metadata": {},
   "source": [
    "Calculating the R^2 of highway-mpg fit"
   ]
  },
  {
   "cell_type": "code",
   "execution_count": 59,
   "id": "e47e9745",
   "metadata": {},
   "outputs": [
    {
     "name": "stdout",
     "output_type": "stream",
     "text": [
      "The R-square is:  0.4965911884339175\n"
     ]
    }
   ],
   "source": [
    "x = df[['highway-mpg']]\n",
    "y = df['price']\n",
    "lm = LinearRegression()\n",
    "lm.fit(x, y)\n",
    "print('The R-square is: ', lm.score(x, y))"
   ]
  },
  {
   "cell_type": "markdown",
   "id": "a6245918",
   "metadata": {},
   "source": [
    "### ~49.659% of the variation of the price is explained by this model"
   ]
  },
  {
   "cell_type": "markdown",
   "id": "dea56919",
   "metadata": {},
   "source": [
    "First, we predict the output (y_predict) using the predict method where (x) is the input variable"
   ]
  },
  {
   "cell_type": "code",
   "execution_count": 60,
   "id": "d75bf543",
   "metadata": {},
   "outputs": [
    {
     "name": "stdout",
     "output_type": "stream",
     "text": [
      "The output of the first four predicted value is:  [16236.50464347 16236.50464347 17058.23802179 13771.3045085 ]\n"
     ]
    }
   ],
   "source": [
    "y_predict=lm.predict(x)\n",
    "print('The output of the first four predicted value is: ', y_predict[0:4])"
   ]
  },
  {
   "cell_type": "markdown",
   "id": "6927ce9a",
   "metadata": {},
   "source": [
    "After we get our `predicted` result, we now compare with the `actual` result"
   ]
  },
  {
   "cell_type": "code",
   "execution_count": 61,
   "id": "538da41b",
   "metadata": {},
   "outputs": [],
   "source": [
    "from sklearn.metrics import mean_squared_error"
   ]
  },
  {
   "cell_type": "code",
   "execution_count": 62,
   "id": "3665a920",
   "metadata": {},
   "outputs": [
    {
     "name": "stdout",
     "output_type": "stream",
     "text": [
      "The mean square error of price and predicted value is:  31635042.944639895\n"
     ]
    }
   ],
   "source": [
    "mse = mean_squared_error(y, y_predict)\n",
    "print('The mean square error of price and predicted value is: ', mse)"
   ]
  },
  {
   "cell_type": "markdown",
   "id": "e092073d",
   "metadata": {},
   "source": [
    "### Finding the scores of a polynomial fit"
   ]
  },
  {
   "cell_type": "code",
   "execution_count": 63,
   "id": "4fc192e1",
   "metadata": {},
   "outputs": [],
   "source": [
    "from sklearn.metrics import r2_score"
   ]
  },
  {
   "cell_type": "markdown",
   "id": "831b6b3a",
   "metadata": {},
   "source": [
    "Using our earlier polynomial equation"
   ]
  },
  {
   "cell_type": "code",
   "execution_count": 64,
   "id": "4dabc378",
   "metadata": {},
   "outputs": [
    {
     "name": "stdout",
     "output_type": "stream",
     "text": [
      "        3         2\n",
      "-1.557 x + 204.8 x - 8965 x + 1.379e+05\n"
     ]
    }
   ],
   "source": [
    "print(model)"
   ]
  },
  {
   "cell_type": "markdown",
   "id": "b12bb3a0",
   "metadata": {},
   "source": [
    "Finding the R^2 value"
   ]
  },
  {
   "cell_type": "code",
   "execution_count": 65,
   "id": "26d8f5e9",
   "metadata": {},
   "outputs": [
    {
     "name": "stdout",
     "output_type": "stream",
     "text": [
      "The R-square value is:  0.674194666390652\n"
     ]
    }
   ],
   "source": [
    "r_squared = r2_score(y, model(x))\n",
    "print('The R-square value is: ', r_squared)"
   ]
  },
  {
   "cell_type": "markdown",
   "id": "08a5f14c",
   "metadata": {},
   "source": [
    "Finding the MSE"
   ]
  },
  {
   "cell_type": "code",
   "execution_count": 66,
   "id": "3b42c8e5",
   "metadata": {},
   "outputs": [
    {
     "data": {
      "text/plain": [
       "20474146.426361218"
      ]
     },
     "execution_count": 66,
     "metadata": {},
     "output_type": "execute_result"
    }
   ],
   "source": [
    "mean_squared_error(y, model(x))"
   ]
  },
  {
   "cell_type": "markdown",
   "id": "8ec2fb0e",
   "metadata": {},
   "source": [
    "In this case, Polynomial Regression is a better model because of higher R^2 and lower MSE"
   ]
  },
  {
   "cell_type": "markdown",
   "id": "4a35834a",
   "metadata": {},
   "source": [
    "# Conclusion\n",
    "In order to create the best model you,\n",
    "- Visualize different models\n",
    "- Generate R^2 and MSE values for each fits\n",
    "- Compare each R^2 and MSE to find the best fit"
   ]
  },
  {
   "cell_type": "code",
   "execution_count": null,
   "id": "dd023202",
   "metadata": {},
   "outputs": [],
   "source": []
  }
 ],
 "metadata": {
  "kernelspec": {
   "display_name": "Python 3",
   "language": "python",
   "name": "python3"
  },
  "language_info": {
   "codemirror_mode": {
    "name": "ipython",
    "version": 3
   },
   "file_extension": ".py",
   "mimetype": "text/x-python",
   "name": "python",
   "nbconvert_exporter": "python",
   "pygments_lexer": "ipython3",
   "version": "3.8.8"
  }
 },
 "nbformat": 4,
 "nbformat_minor": 5
}
