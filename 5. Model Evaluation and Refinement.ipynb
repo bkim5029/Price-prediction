{
 "cells": [
  {
   "cell_type": "markdown",
   "id": "373040e9",
   "metadata": {},
   "source": [
    "estimating parameters (creating a best fit line) is called training the algorithm\n",
    "\n",
    "if the training data's residual is significantly smaller than testing data's residual, it is over fit (meaning training set of line has high variance)\n",
    "\n",
    "ridge regression will slowly tilt the training line to `Generalize` more. In other words, Ridge regression will make the line slightly worse fit but in return provide bettern prediction."
   ]
  },
  {
   "cell_type": "code",
   "execution_count": 42,
   "id": "07c28826",
   "metadata": {},
   "outputs": [],
   "source": [
    "import pandas as pd\n",
    "import numpy as np\n",
    "from sklearn.linear_model import LinearRegression\n",
    "from sklearn.model_selection import train_test_split\n",
    "from sklearn.model_selection import cross_val_score\n",
    "from sklearn.preprocessing import PolynomialFeatures\n",
    "from ipywidgets import interact, interactive, fixed, interact_manual\n",
    "import matplotlib.pyplot as plt\n",
    "%matplotlib inline\n",
    "import seaborn as sns"
   ]
  },
  {
   "cell_type": "code",
   "execution_count": 47,
   "id": "aa62c0f5",
   "metadata": {},
   "outputs": [
    {
     "data": {
      "text/html": [
       "<div>\n",
       "<style scoped>\n",
       "    .dataframe tbody tr th:only-of-type {\n",
       "        vertical-align: middle;\n",
       "    }\n",
       "\n",
       "    .dataframe tbody tr th {\n",
       "        vertical-align: top;\n",
       "    }\n",
       "\n",
       "    .dataframe thead th {\n",
       "        text-align: right;\n",
       "    }\n",
       "</style>\n",
       "<table border=\"1\" class=\"dataframe\">\n",
       "  <thead>\n",
       "    <tr style=\"text-align: right;\">\n",
       "      <th></th>\n",
       "      <th>symboling</th>\n",
       "      <th>normalized-losses</th>\n",
       "      <th>make</th>\n",
       "      <th>fuel-type</th>\n",
       "      <th>aspiration</th>\n",
       "      <th>num-of-doors</th>\n",
       "      <th>body-style</th>\n",
       "      <th>drive-wheels</th>\n",
       "      <th>engine-location</th>\n",
       "      <th>wheel-base</th>\n",
       "      <th>...</th>\n",
       "      <th>fuel-system</th>\n",
       "      <th>bore</th>\n",
       "      <th>stroke</th>\n",
       "      <th>compression-ratio</th>\n",
       "      <th>horsepower</th>\n",
       "      <th>peak-rpm</th>\n",
       "      <th>city-mpg</th>\n",
       "      <th>highway-mpg</th>\n",
       "      <th>price</th>\n",
       "      <th>horsepower-binned</th>\n",
       "    </tr>\n",
       "  </thead>\n",
       "  <tbody>\n",
       "    <tr>\n",
       "      <th>0</th>\n",
       "      <td>3</td>\n",
       "      <td>122.0</td>\n",
       "      <td>alfa-romero</td>\n",
       "      <td>gas</td>\n",
       "      <td>std</td>\n",
       "      <td>two</td>\n",
       "      <td>convertible</td>\n",
       "      <td>rwd</td>\n",
       "      <td>front</td>\n",
       "      <td>88.6</td>\n",
       "      <td>...</td>\n",
       "      <td>mpfi</td>\n",
       "      <td>3.47</td>\n",
       "      <td>2.68</td>\n",
       "      <td>9.0</td>\n",
       "      <td>111</td>\n",
       "      <td>5000</td>\n",
       "      <td>21</td>\n",
       "      <td>27</td>\n",
       "      <td>13495</td>\n",
       "      <td>Low</td>\n",
       "    </tr>\n",
       "    <tr>\n",
       "      <th>1</th>\n",
       "      <td>3</td>\n",
       "      <td>122.0</td>\n",
       "      <td>alfa-romero</td>\n",
       "      <td>gas</td>\n",
       "      <td>std</td>\n",
       "      <td>two</td>\n",
       "      <td>convertible</td>\n",
       "      <td>rwd</td>\n",
       "      <td>front</td>\n",
       "      <td>88.6</td>\n",
       "      <td>...</td>\n",
       "      <td>mpfi</td>\n",
       "      <td>3.47</td>\n",
       "      <td>2.68</td>\n",
       "      <td>9.0</td>\n",
       "      <td>111</td>\n",
       "      <td>5000</td>\n",
       "      <td>21</td>\n",
       "      <td>27</td>\n",
       "      <td>16500</td>\n",
       "      <td>Low</td>\n",
       "    </tr>\n",
       "    <tr>\n",
       "      <th>2</th>\n",
       "      <td>1</td>\n",
       "      <td>122.0</td>\n",
       "      <td>alfa-romero</td>\n",
       "      <td>gas</td>\n",
       "      <td>std</td>\n",
       "      <td>two</td>\n",
       "      <td>hatchback</td>\n",
       "      <td>rwd</td>\n",
       "      <td>front</td>\n",
       "      <td>94.5</td>\n",
       "      <td>...</td>\n",
       "      <td>mpfi</td>\n",
       "      <td>2.68</td>\n",
       "      <td>3.47</td>\n",
       "      <td>9.0</td>\n",
       "      <td>154</td>\n",
       "      <td>5000</td>\n",
       "      <td>19</td>\n",
       "      <td>26</td>\n",
       "      <td>16500</td>\n",
       "      <td>Medium</td>\n",
       "    </tr>\n",
       "    <tr>\n",
       "      <th>3</th>\n",
       "      <td>2</td>\n",
       "      <td>164.0</td>\n",
       "      <td>audi</td>\n",
       "      <td>gas</td>\n",
       "      <td>std</td>\n",
       "      <td>four</td>\n",
       "      <td>sedan</td>\n",
       "      <td>fwd</td>\n",
       "      <td>front</td>\n",
       "      <td>99.8</td>\n",
       "      <td>...</td>\n",
       "      <td>mpfi</td>\n",
       "      <td>3.19</td>\n",
       "      <td>3.40</td>\n",
       "      <td>10.0</td>\n",
       "      <td>102</td>\n",
       "      <td>5500</td>\n",
       "      <td>24</td>\n",
       "      <td>30</td>\n",
       "      <td>13950</td>\n",
       "      <td>Low</td>\n",
       "    </tr>\n",
       "    <tr>\n",
       "      <th>4</th>\n",
       "      <td>2</td>\n",
       "      <td>164.0</td>\n",
       "      <td>audi</td>\n",
       "      <td>gas</td>\n",
       "      <td>std</td>\n",
       "      <td>four</td>\n",
       "      <td>sedan</td>\n",
       "      <td>4wd</td>\n",
       "      <td>front</td>\n",
       "      <td>99.4</td>\n",
       "      <td>...</td>\n",
       "      <td>mpfi</td>\n",
       "      <td>3.19</td>\n",
       "      <td>3.40</td>\n",
       "      <td>8.0</td>\n",
       "      <td>115</td>\n",
       "      <td>5500</td>\n",
       "      <td>18</td>\n",
       "      <td>22</td>\n",
       "      <td>17450</td>\n",
       "      <td>Low</td>\n",
       "    </tr>\n",
       "    <tr>\n",
       "      <th>...</th>\n",
       "      <td>...</td>\n",
       "      <td>...</td>\n",
       "      <td>...</td>\n",
       "      <td>...</td>\n",
       "      <td>...</td>\n",
       "      <td>...</td>\n",
       "      <td>...</td>\n",
       "      <td>...</td>\n",
       "      <td>...</td>\n",
       "      <td>...</td>\n",
       "      <td>...</td>\n",
       "      <td>...</td>\n",
       "      <td>...</td>\n",
       "      <td>...</td>\n",
       "      <td>...</td>\n",
       "      <td>...</td>\n",
       "      <td>...</td>\n",
       "      <td>...</td>\n",
       "      <td>...</td>\n",
       "      <td>...</td>\n",
       "      <td>...</td>\n",
       "    </tr>\n",
       "    <tr>\n",
       "      <th>196</th>\n",
       "      <td>-1</td>\n",
       "      <td>95.0</td>\n",
       "      <td>volvo</td>\n",
       "      <td>gas</td>\n",
       "      <td>std</td>\n",
       "      <td>four</td>\n",
       "      <td>sedan</td>\n",
       "      <td>rwd</td>\n",
       "      <td>front</td>\n",
       "      <td>109.1</td>\n",
       "      <td>...</td>\n",
       "      <td>mpfi</td>\n",
       "      <td>3.78</td>\n",
       "      <td>3.15</td>\n",
       "      <td>9.5</td>\n",
       "      <td>114</td>\n",
       "      <td>5400</td>\n",
       "      <td>23</td>\n",
       "      <td>28</td>\n",
       "      <td>16845</td>\n",
       "      <td>Low</td>\n",
       "    </tr>\n",
       "    <tr>\n",
       "      <th>197</th>\n",
       "      <td>-1</td>\n",
       "      <td>95.0</td>\n",
       "      <td>volvo</td>\n",
       "      <td>gas</td>\n",
       "      <td>turbo</td>\n",
       "      <td>four</td>\n",
       "      <td>sedan</td>\n",
       "      <td>rwd</td>\n",
       "      <td>front</td>\n",
       "      <td>109.1</td>\n",
       "      <td>...</td>\n",
       "      <td>mpfi</td>\n",
       "      <td>3.78</td>\n",
       "      <td>3.15</td>\n",
       "      <td>8.7</td>\n",
       "      <td>160</td>\n",
       "      <td>5300</td>\n",
       "      <td>19</td>\n",
       "      <td>25</td>\n",
       "      <td>19045</td>\n",
       "      <td>Medium</td>\n",
       "    </tr>\n",
       "    <tr>\n",
       "      <th>198</th>\n",
       "      <td>-1</td>\n",
       "      <td>95.0</td>\n",
       "      <td>volvo</td>\n",
       "      <td>gas</td>\n",
       "      <td>std</td>\n",
       "      <td>four</td>\n",
       "      <td>sedan</td>\n",
       "      <td>rwd</td>\n",
       "      <td>front</td>\n",
       "      <td>109.1</td>\n",
       "      <td>...</td>\n",
       "      <td>mpfi</td>\n",
       "      <td>3.58</td>\n",
       "      <td>2.87</td>\n",
       "      <td>8.8</td>\n",
       "      <td>134</td>\n",
       "      <td>5500</td>\n",
       "      <td>18</td>\n",
       "      <td>23</td>\n",
       "      <td>21485</td>\n",
       "      <td>Medium</td>\n",
       "    </tr>\n",
       "    <tr>\n",
       "      <th>199</th>\n",
       "      <td>-1</td>\n",
       "      <td>95.0</td>\n",
       "      <td>volvo</td>\n",
       "      <td>diesel</td>\n",
       "      <td>turbo</td>\n",
       "      <td>four</td>\n",
       "      <td>sedan</td>\n",
       "      <td>rwd</td>\n",
       "      <td>front</td>\n",
       "      <td>109.1</td>\n",
       "      <td>...</td>\n",
       "      <td>idi</td>\n",
       "      <td>3.01</td>\n",
       "      <td>3.40</td>\n",
       "      <td>23.0</td>\n",
       "      <td>106</td>\n",
       "      <td>4800</td>\n",
       "      <td>26</td>\n",
       "      <td>27</td>\n",
       "      <td>22470</td>\n",
       "      <td>Low</td>\n",
       "    </tr>\n",
       "    <tr>\n",
       "      <th>200</th>\n",
       "      <td>-1</td>\n",
       "      <td>95.0</td>\n",
       "      <td>volvo</td>\n",
       "      <td>gas</td>\n",
       "      <td>turbo</td>\n",
       "      <td>four</td>\n",
       "      <td>sedan</td>\n",
       "      <td>rwd</td>\n",
       "      <td>front</td>\n",
       "      <td>109.1</td>\n",
       "      <td>...</td>\n",
       "      <td>mpfi</td>\n",
       "      <td>3.78</td>\n",
       "      <td>3.15</td>\n",
       "      <td>9.5</td>\n",
       "      <td>114</td>\n",
       "      <td>5400</td>\n",
       "      <td>19</td>\n",
       "      <td>25</td>\n",
       "      <td>22625</td>\n",
       "      <td>Low</td>\n",
       "    </tr>\n",
       "  </tbody>\n",
       "</table>\n",
       "<p>201 rows × 27 columns</p>\n",
       "</div>"
      ],
      "text/plain": [
       "     symboling  normalized-losses         make fuel-type aspiration  \\\n",
       "0            3              122.0  alfa-romero       gas        std   \n",
       "1            3              122.0  alfa-romero       gas        std   \n",
       "2            1              122.0  alfa-romero       gas        std   \n",
       "3            2              164.0         audi       gas        std   \n",
       "4            2              164.0         audi       gas        std   \n",
       "..         ...                ...          ...       ...        ...   \n",
       "196         -1               95.0        volvo       gas        std   \n",
       "197         -1               95.0        volvo       gas      turbo   \n",
       "198         -1               95.0        volvo       gas        std   \n",
       "199         -1               95.0        volvo    diesel      turbo   \n",
       "200         -1               95.0        volvo       gas      turbo   \n",
       "\n",
       "    num-of-doors   body-style drive-wheels engine-location  wheel-base  ...  \\\n",
       "0            two  convertible          rwd           front        88.6  ...   \n",
       "1            two  convertible          rwd           front        88.6  ...   \n",
       "2            two    hatchback          rwd           front        94.5  ...   \n",
       "3           four        sedan          fwd           front        99.8  ...   \n",
       "4           four        sedan          4wd           front        99.4  ...   \n",
       "..           ...          ...          ...             ...         ...  ...   \n",
       "196         four        sedan          rwd           front       109.1  ...   \n",
       "197         four        sedan          rwd           front       109.1  ...   \n",
       "198         four        sedan          rwd           front       109.1  ...   \n",
       "199         four        sedan          rwd           front       109.1  ...   \n",
       "200         four        sedan          rwd           front       109.1  ...   \n",
       "\n",
       "     fuel-system  bore  stroke  compression-ratio horsepower peak-rpm  \\\n",
       "0           mpfi  3.47    2.68                9.0        111     5000   \n",
       "1           mpfi  3.47    2.68                9.0        111     5000   \n",
       "2           mpfi  2.68    3.47                9.0        154     5000   \n",
       "3           mpfi  3.19    3.40               10.0        102     5500   \n",
       "4           mpfi  3.19    3.40                8.0        115     5500   \n",
       "..           ...   ...     ...                ...        ...      ...   \n",
       "196         mpfi  3.78    3.15                9.5        114     5400   \n",
       "197         mpfi  3.78    3.15                8.7        160     5300   \n",
       "198         mpfi  3.58    2.87                8.8        134     5500   \n",
       "199          idi  3.01    3.40               23.0        106     4800   \n",
       "200         mpfi  3.78    3.15                9.5        114     5400   \n",
       "\n",
       "     city-mpg highway-mpg  price  horsepower-binned  \n",
       "0          21          27  13495                Low  \n",
       "1          21          27  16500                Low  \n",
       "2          19          26  16500             Medium  \n",
       "3          24          30  13950                Low  \n",
       "4          18          22  17450                Low  \n",
       "..        ...         ...    ...                ...  \n",
       "196        23          28  16845                Low  \n",
       "197        19          25  19045             Medium  \n",
       "198        18          23  21485             Medium  \n",
       "199        26          27  22470                Low  \n",
       "200        19          25  22625                Low  \n",
       "\n",
       "[201 rows x 27 columns]"
      ]
     },
     "execution_count": 47,
     "metadata": {},
     "output_type": "execute_result"
    }
   ],
   "source": [
    "df = pd.read_csv('cleaned_car_data.csv')\n",
    "df"
   ]
  },
  {
   "cell_type": "code",
   "execution_count": 48,
   "id": "9434374a",
   "metadata": {},
   "outputs": [
    {
     "data": {
      "text/html": [
       "<div>\n",
       "<style scoped>\n",
       "    .dataframe tbody tr th:only-of-type {\n",
       "        vertical-align: middle;\n",
       "    }\n",
       "\n",
       "    .dataframe tbody tr th {\n",
       "        vertical-align: top;\n",
       "    }\n",
       "\n",
       "    .dataframe thead th {\n",
       "        text-align: right;\n",
       "    }\n",
       "</style>\n",
       "<table border=\"1\" class=\"dataframe\">\n",
       "  <thead>\n",
       "    <tr style=\"text-align: right;\">\n",
       "      <th></th>\n",
       "      <th>symboling</th>\n",
       "      <th>normalized-losses</th>\n",
       "      <th>wheel-base</th>\n",
       "      <th>length</th>\n",
       "      <th>width</th>\n",
       "      <th>height</th>\n",
       "      <th>curb-weight</th>\n",
       "      <th>engine-size</th>\n",
       "      <th>bore</th>\n",
       "      <th>stroke</th>\n",
       "      <th>compression-ratio</th>\n",
       "      <th>horsepower</th>\n",
       "      <th>peak-rpm</th>\n",
       "      <th>city-mpg</th>\n",
       "      <th>highway-mpg</th>\n",
       "      <th>price</th>\n",
       "    </tr>\n",
       "  </thead>\n",
       "  <tbody>\n",
       "    <tr>\n",
       "      <th>0</th>\n",
       "      <td>3</td>\n",
       "      <td>122.0</td>\n",
       "      <td>88.6</td>\n",
       "      <td>0.811148</td>\n",
       "      <td>64.1</td>\n",
       "      <td>48.8</td>\n",
       "      <td>2548</td>\n",
       "      <td>130</td>\n",
       "      <td>3.47</td>\n",
       "      <td>2.68</td>\n",
       "      <td>9.0</td>\n",
       "      <td>111</td>\n",
       "      <td>5000</td>\n",
       "      <td>21</td>\n",
       "      <td>27</td>\n",
       "      <td>13495</td>\n",
       "    </tr>\n",
       "    <tr>\n",
       "      <th>1</th>\n",
       "      <td>3</td>\n",
       "      <td>122.0</td>\n",
       "      <td>88.6</td>\n",
       "      <td>0.811148</td>\n",
       "      <td>64.1</td>\n",
       "      <td>48.8</td>\n",
       "      <td>2548</td>\n",
       "      <td>130</td>\n",
       "      <td>3.47</td>\n",
       "      <td>2.68</td>\n",
       "      <td>9.0</td>\n",
       "      <td>111</td>\n",
       "      <td>5000</td>\n",
       "      <td>21</td>\n",
       "      <td>27</td>\n",
       "      <td>16500</td>\n",
       "    </tr>\n",
       "    <tr>\n",
       "      <th>2</th>\n",
       "      <td>1</td>\n",
       "      <td>122.0</td>\n",
       "      <td>94.5</td>\n",
       "      <td>0.822681</td>\n",
       "      <td>65.5</td>\n",
       "      <td>52.4</td>\n",
       "      <td>2823</td>\n",
       "      <td>152</td>\n",
       "      <td>2.68</td>\n",
       "      <td>3.47</td>\n",
       "      <td>9.0</td>\n",
       "      <td>154</td>\n",
       "      <td>5000</td>\n",
       "      <td>19</td>\n",
       "      <td>26</td>\n",
       "      <td>16500</td>\n",
       "    </tr>\n",
       "    <tr>\n",
       "      <th>3</th>\n",
       "      <td>2</td>\n",
       "      <td>164.0</td>\n",
       "      <td>99.8</td>\n",
       "      <td>0.848630</td>\n",
       "      <td>66.2</td>\n",
       "      <td>54.3</td>\n",
       "      <td>2337</td>\n",
       "      <td>109</td>\n",
       "      <td>3.19</td>\n",
       "      <td>3.40</td>\n",
       "      <td>10.0</td>\n",
       "      <td>102</td>\n",
       "      <td>5500</td>\n",
       "      <td>24</td>\n",
       "      <td>30</td>\n",
       "      <td>13950</td>\n",
       "    </tr>\n",
       "    <tr>\n",
       "      <th>4</th>\n",
       "      <td>2</td>\n",
       "      <td>164.0</td>\n",
       "      <td>99.4</td>\n",
       "      <td>0.848630</td>\n",
       "      <td>66.4</td>\n",
       "      <td>54.3</td>\n",
       "      <td>2824</td>\n",
       "      <td>136</td>\n",
       "      <td>3.19</td>\n",
       "      <td>3.40</td>\n",
       "      <td>8.0</td>\n",
       "      <td>115</td>\n",
       "      <td>5500</td>\n",
       "      <td>18</td>\n",
       "      <td>22</td>\n",
       "      <td>17450</td>\n",
       "    </tr>\n",
       "  </tbody>\n",
       "</table>\n",
       "</div>"
      ],
      "text/plain": [
       "   symboling  normalized-losses  wheel-base    length  width  height  \\\n",
       "0          3              122.0        88.6  0.811148   64.1    48.8   \n",
       "1          3              122.0        88.6  0.811148   64.1    48.8   \n",
       "2          1              122.0        94.5  0.822681   65.5    52.4   \n",
       "3          2              164.0        99.8  0.848630   66.2    54.3   \n",
       "4          2              164.0        99.4  0.848630   66.4    54.3   \n",
       "\n",
       "   curb-weight  engine-size  bore  stroke  compression-ratio  horsepower  \\\n",
       "0         2548          130  3.47    2.68                9.0         111   \n",
       "1         2548          130  3.47    2.68                9.0         111   \n",
       "2         2823          152  2.68    3.47                9.0         154   \n",
       "3         2337          109  3.19    3.40               10.0         102   \n",
       "4         2824          136  3.19    3.40                8.0         115   \n",
       "\n",
       "   peak-rpm  city-mpg  highway-mpg  price  \n",
       "0      5000        21           27  13495  \n",
       "1      5000        21           27  16500  \n",
       "2      5000        19           26  16500  \n",
       "3      5500        24           30  13950  \n",
       "4      5500        18           22  17450  "
      ]
     },
     "execution_count": 48,
     "metadata": {},
     "output_type": "execute_result"
    }
   ],
   "source": [
    "df=df._get_numeric_data()\n",
    "df.head()"
   ]
  },
  {
   "cell_type": "markdown",
   "id": "2ba65778",
   "metadata": {},
   "source": [
    "# Training and Testing \n",
    "\n",
    "When testing our model, it is not a good idea to use all of our data to create a model because there is no test data. \n",
    "- Training and Testing allows us to divide up the data into training and testing set and gives realistic outcome.\n",
    "\n",
    "Before creating a model, its an important step to split your data into training and testing data.\n",
    "\n",
    "We will split the target data `price` into y_data"
   ]
  },
  {
   "cell_type": "code",
   "execution_count": 49,
   "id": "487c03e8",
   "metadata": {},
   "outputs": [],
   "source": [
    "y_data = df['price']"
   ]
  },
  {
   "cell_type": "markdown",
   "id": "6975ec4b",
   "metadata": {},
   "source": [
    "We will drop `price` in the dataframe x_data"
   ]
  },
  {
   "cell_type": "code",
   "execution_count": 50,
   "id": "33212041",
   "metadata": {},
   "outputs": [],
   "source": [
    "x_data = df.drop('price',axis=1)"
   ]
  },
  {
   "cell_type": "markdown",
   "id": "654988fe",
   "metadata": {},
   "source": [
    "We now randomly split the data into training and testing"
   ]
  },
  {
   "cell_type": "code",
   "execution_count": 51,
   "id": "195922c7",
   "metadata": {},
   "outputs": [],
   "source": [
    "# test_size paramaeter sets the proportion of data in this testing, testing set is 10% of the total dataset\n",
    "# random_stat = 1 keeps the randomly ordered data instead of rearranging it again\n",
    "x_train, x_test, y_train, y_test = train_test_split(x_data, y_data, test_size=0.10, random_state=1)"
   ]
  },
  {
   "cell_type": "code",
   "execution_count": 52,
   "id": "f656ba96",
   "metadata": {},
   "outputs": [
    {
     "name": "stdout",
     "output_type": "stream",
     "text": [
      "number of test samples : 21\n",
      "number of training samples: 180\n"
     ]
    }
   ],
   "source": [
    "print(\"number of test samples :\", x_test.shape[0])\n",
    "print(\"number of training samples:\",x_train.shape[0])"
   ]
  },
  {
   "cell_type": "markdown",
   "id": "7c743e2b",
   "metadata": {},
   "source": [
    "We will create the model using our training data"
   ]
  },
  {
   "cell_type": "code",
   "execution_count": 53,
   "id": "56713758",
   "metadata": {},
   "outputs": [
    {
     "data": {
      "text/plain": [
       "LinearRegression()"
      ]
     },
     "execution_count": 53,
     "metadata": {},
     "output_type": "execute_result"
    }
   ],
   "source": [
    "lr = LinearRegression()\n",
    "lr.fit(x_train[['horsepower']], y_train)"
   ]
  },
  {
   "cell_type": "markdown",
   "id": "4f50ea79",
   "metadata": {},
   "source": [
    "Fit the testing data and training data into our trained data model and compare the score"
   ]
  },
  {
   "cell_type": "code",
   "execution_count": 54,
   "id": "52fa8d96",
   "metadata": {},
   "outputs": [
    {
     "data": {
      "text/plain": [
       "0.3635480624962413"
      ]
     },
     "execution_count": 54,
     "metadata": {},
     "output_type": "execute_result"
    }
   ],
   "source": [
    "lr.score(x_test[['horsepower']], y_test)"
   ]
  },
  {
   "cell_type": "code",
   "execution_count": 55,
   "id": "e764cc1d",
   "metadata": {},
   "outputs": [
    {
     "data": {
      "text/plain": [
       "0.662028747521533"
      ]
     },
     "execution_count": 55,
     "metadata": {},
     "output_type": "execute_result"
    }
   ],
   "source": [
    "lr.score(x_train[['horsepower']], y_train)"
   ]
  },
  {
   "cell_type": "markdown",
   "id": "600dcb57",
   "metadata": {},
   "source": [
    "We can see R^2 value is much smaller on testing data compared to training data"
   ]
  },
  {
   "cell_type": "markdown",
   "id": "3a6106ac",
   "metadata": {},
   "source": [
    "# Cross Validation Score\n",
    "In order to get the accurate score, we use CVS which allows us to seperate the dataset into specific number of folds and alternate each fold into being a test data until every fold has gotten a chance being a test data.\n",
    "- If we divide the dataset into 5 different fold, we will get 5 different scores"
   ]
  },
  {
   "cell_type": "markdown",
   "id": "0fc913d3",
   "metadata": {},
   "source": [
    "We create an cross val score with x_data, y_data in linear regression model and the parameter 'cv' determines the number of fold."
   ]
  },
  {
   "cell_type": "code",
   "execution_count": 56,
   "id": "325ff205",
   "metadata": {},
   "outputs": [],
   "source": [
    "Rcross = cross_val_score(lr, x_data[['horsepower']], y_data, cv=4)"
   ]
  },
  {
   "cell_type": "markdown",
   "id": "06c8a80e",
   "metadata": {},
   "source": [
    "The default scoring is R^2. Each element in the array has the average R^2 value for the fold:"
   ]
  },
  {
   "cell_type": "code",
   "execution_count": 57,
   "id": "d4097046",
   "metadata": {},
   "outputs": [
    {
     "data": {
      "text/plain": [
       "array([0.77465419, 0.51718424, 0.74814454, 0.04825398])"
      ]
     },
     "execution_count": 57,
     "metadata": {},
     "output_type": "execute_result"
    }
   ],
   "source": [
    "Rcross"
   ]
  },
  {
   "cell_type": "markdown",
   "id": "f8a13c9d",
   "metadata": {},
   "source": [
    "We can also calculate the average of R^2"
   ]
  },
  {
   "cell_type": "code",
   "execution_count": 58,
   "id": "1d365904",
   "metadata": {},
   "outputs": [
    {
     "data": {
      "text/plain": [
       "0.5220592359225414"
      ]
     },
     "execution_count": 58,
     "metadata": {},
     "output_type": "execute_result"
    }
   ],
   "source": [
    "Rcross.mean()"
   ]
  },
  {
   "cell_type": "markdown",
   "id": "4cbc2612",
   "metadata": {},
   "source": [
    "You can also use the function `cross_val_predict` to predict the output of each fold."
   ]
  },
  {
   "cell_type": "code",
   "execution_count": 59,
   "id": "b5eb3997",
   "metadata": {},
   "outputs": [],
   "source": [
    "from sklearn.model_selection import cross_val_predict"
   ]
  },
  {
   "cell_type": "markdown",
   "id": "a1580c0d",
   "metadata": {},
   "source": [
    "The function automatically splits up the data into testing and training with the specified number of folds"
   ]
  },
  {
   "cell_type": "code",
   "execution_count": 60,
   "id": "872bcbe1",
   "metadata": {},
   "outputs": [
    {
     "data": {
      "text/plain": [
       "array([14142.23793549, 14142.23793549, 20815.3029844 , 12745.549902  ,\n",
       "       14762.9881726 ])"
      ]
     },
     "execution_count": 60,
     "metadata": {},
     "output_type": "execute_result"
    }
   ],
   "source": [
    "y_predict = cross_val_predict(lr,x_data[['horsepower']], y_data,cv=4)\n",
    "y_predict[0:5]"
   ]
  },
  {
   "cell_type": "markdown",
   "id": "3883d613",
   "metadata": {},
   "source": [
    "# Overfitting, Underfitting and Model Selection"
   ]
  },
  {
   "cell_type": "markdown",
   "id": "68427fcd",
   "metadata": {},
   "source": [
    "First, lets create Multiple Linear Regression and train the model using our train data"
   ]
  },
  {
   "cell_type": "code",
   "execution_count": 61,
   "id": "992a10aa",
   "metadata": {},
   "outputs": [
    {
     "data": {
      "text/plain": [
       "LinearRegression()"
      ]
     },
     "execution_count": 61,
     "metadata": {},
     "output_type": "execute_result"
    }
   ],
   "source": [
    "lr = LinearRegression()\n",
    "lr.fit(x_train[['horsepower', 'curb-weight', 'engine-size', 'highway-mpg']], y_train)"
   ]
  },
  {
   "cell_type": "markdown",
   "id": "5e0664e7",
   "metadata": {},
   "source": [
    "prediction using training data"
   ]
  },
  {
   "cell_type": "code",
   "execution_count": 62,
   "id": "43962a80",
   "metadata": {},
   "outputs": [
    {
     "data": {
      "text/plain": [
       "array([ 7426.34910902, 28324.42490838, 14212.74872339,  4052.80810192,\n",
       "       34499.8541269 ])"
      ]
     },
     "execution_count": 62,
     "metadata": {},
     "output_type": "execute_result"
    }
   ],
   "source": [
    "y_predict_train = lr.predict(x_train[['horsepower', 'curb-weight', 'engine-size', 'highway-mpg']])\n",
    "y_predict_train[0:5]"
   ]
  },
  {
   "cell_type": "markdown",
   "id": "3da4dcfb",
   "metadata": {},
   "source": [
    "prediction using testing data"
   ]
  },
  {
   "cell_type": "code",
   "execution_count": 63,
   "id": "2484d884",
   "metadata": {},
   "outputs": [
    {
     "data": {
      "text/plain": [
       "array([11349.68099115,  5884.25292475, 11208.31007475,  6641.03017109,\n",
       "       15565.98722248])"
      ]
     },
     "execution_count": 63,
     "metadata": {},
     "output_type": "execute_result"
    }
   ],
   "source": [
    "y_predict_test = lr.predict(x_test[['horsepower', 'curb-weight', 'engine-size', 'highway-mpg']])\n",
    "y_predict_test[0:5]"
   ]
  },
  {
   "cell_type": "markdown",
   "id": "98dd6da2",
   "metadata": {},
   "source": [
    "### Visualizing test and training data"
   ]
  },
  {
   "cell_type": "code",
   "execution_count": 64,
   "id": "342cfd31",
   "metadata": {},
   "outputs": [],
   "source": [
    "def DistributionPlot(x, y, x_name, y_name, Title):\n",
    "    width = 12\n",
    "    height = 10\n",
    "    plt.figure(figsize=(width, height))\n",
    "\n",
    "    ax1 = sns.distplot(x, hist=False, color=\"r\", label=x_name)\n",
    "    ax2 = sns.distplot(y, hist=False, color=\"b\", label=y_name, ax=ax1)\n",
    "    plt.legend()\n",
    "\n",
    "    plt.title(Title)\n",
    "    plt.xlabel('Price (in dollars)')\n",
    "    plt.ylabel('Proportion of Cars')\n",
    "\n",
    "    plt.show()\n",
    "    plt.close()"
   ]
  },
  {
   "cell_type": "code",
   "execution_count": 65,
   "id": "65cef929",
   "metadata": {},
   "outputs": [
    {
     "name": "stderr",
     "output_type": "stream",
     "text": [
      "C:\\Users\\bkim5\\anaconda3\\lib\\site-packages\\seaborn\\distributions.py:2557: FutureWarning: `distplot` is a deprecated function and will be removed in a future version. Please adapt your code to use either `displot` (a figure-level function with similar flexibility) or `kdeplot` (an axes-level function for kernel density plots).\n",
      "  warnings.warn(msg, FutureWarning)\n",
      "C:\\Users\\bkim5\\anaconda3\\lib\\site-packages\\seaborn\\distributions.py:2557: FutureWarning: `distplot` is a deprecated function and will be removed in a future version. Please adapt your code to use either `displot` (a figure-level function with similar flexibility) or `kdeplot` (an axes-level function for kernel density plots).\n",
      "  warnings.warn(msg, FutureWarning)\n"
     ]
    },
    {
     "data": {
      "image/png": "[encoded data removed]",
      "text/plain": [
       "<Figure size 864x720 with 1 Axes>"
      ]
     },
     "metadata": {
      "needs_background": "light"
     },
     "output_type": "display_data"
    }
   ],
   "source": [
    "Title = 'Actual Values (Train) vs Predicted Values (Train)'\n",
    "DistributionPlot(y_train, y_predict_train, \"Actual Values (Train)\", \"Predicted Values (Train)\", Title)"
   ]
  },
  {
   "cell_type": "code",
   "execution_count": 66,
   "id": "e9256dc2",
   "metadata": {},
   "outputs": [
    {
     "name": "stderr",
     "output_type": "stream",
     "text": [
      "C:\\Users\\bkim5\\anaconda3\\lib\\site-packages\\seaborn\\distributions.py:2557: FutureWarning: `distplot` is a deprecated function and will be removed in a future version. Please adapt your code to use either `displot` (a figure-level function with similar flexibility) or `kdeplot` (an axes-level function for kernel density plots).\n",
      "  warnings.warn(msg, FutureWarning)\n",
      "C:\\Users\\bkim5\\anaconda3\\lib\\site-packages\\seaborn\\distributions.py:2557: FutureWarning: `distplot` is a deprecated function and will be removed in a future version. Please adapt your code to use either `displot` (a figure-level function with similar flexibility) or `kdeplot` (an axes-level function for kernel density plots).\n",
      "  warnings.warn(msg, FutureWarning)\n"
     ]
    },
    {
     "data": {
      "image/png": "[encoded data removed]",
      "text/plain": [
       "<Figure size 864x720 with 1 Axes>"
      ]
     },
     "metadata": {
      "needs_background": "light"
     },
     "output_type": "display_data"
    }
   ],
   "source": [
    "Title='Actual Values (Test) vs Predicted Values (Test)'\n",
    "DistributionPlot(y_test,y_predict_test,\"Actual Values (Test)\",\"Predicted Values (Test)\",Title)"
   ]
  },
  {
   "cell_type": "markdown",
   "id": "ba621289",
   "metadata": {},
   "source": [
    "Comparing Figure 1 and 2, it is evident that distribution of figure 1 (using training set) is more accurate than figure 2 (using testing set)"
   ]
  },
  {
   "cell_type": "markdown",
   "id": "a259dfc9",
   "metadata": {},
   "source": [
    "Let's see if polynomial regression also exhibits a drop in the prediction accuracy when analysing the test dataset"
   ]
  },
  {
   "cell_type": "markdown",
   "id": "eda8d268",
   "metadata": {},
   "source": [
    "### Overfitting\n",
    "Occurs when the model fits the noise therefore the model does not perform well since it is modelling noise.\n",
    "\n",
    "We will use 55% of our data as training and 45% as testing for this model "
   ]
  },
  {
   "cell_type": "code",
   "execution_count": 67,
   "id": "c2b4f492",
   "metadata": {},
   "outputs": [],
   "source": [
    "x_train, x_test, y_train, y_test = train_test_split(x_data, y_data, test_size=0.45, random_state=0)"
   ]
  },
  {
   "cell_type": "markdown",
   "id": "1160d029",
   "metadata": {},
   "source": [
    "Using degree 5 polynomial transformation"
   ]
  },
  {
   "cell_type": "code",
   "execution_count": 68,
   "id": "2adc3c51",
   "metadata": {},
   "outputs": [],
   "source": [
    "pr = PolynomialFeatures(degree=5)\n",
    "x_train_pr = pr.fit_transform(x_train[['horsepower']])\n",
    "x_test_pr = pr.fit_transform(x_test[['horsepower']])"
   ]
  },
  {
   "cell_type": "markdown",
   "id": "c3596d03",
   "metadata": {},
   "source": [
    "Now we train the poly model. Lr model but its polynomial"
   ]
  },
  {
   "cell_type": "code",
   "execution_count": 69,
   "id": "50bc65d7",
   "metadata": {},
   "outputs": [
    {
     "data": {
      "text/plain": [
       "LinearRegression()"
      ]
     },
     "execution_count": 69,
     "metadata": {},
     "output_type": "execute_result"
    }
   ],
   "source": [
    "poly = LinearRegression()\n",
    "poly.fit(x_train_pr, y_train)"
   ]
  },
  {
   "cell_type": "markdown",
   "id": "28debb92",
   "metadata": {},
   "source": [
    "We can see the prediction of our polynomial model using `test` data"
   ]
  },
  {
   "cell_type": "code",
   "execution_count": 70,
   "id": "38a95040",
   "metadata": {},
   "outputs": [
    {
     "data": {
      "text/plain": [
       "array([ 6727.55881753,  7306.68887609, 12213.70570359, 18895.0555061 ,\n",
       "       19996.86095772])"
      ]
     },
     "execution_count": 70,
     "metadata": {},
     "output_type": "execute_result"
    }
   ],
   "source": [
    "y_predict = poly.predict(x_test_pr)\n",
    "y_predict[0:5]"
   ]
  },
  {
   "cell_type": "markdown",
   "id": "fb8a9eb2",
   "metadata": {},
   "source": [
    "comparing `test` data prediction with actual data"
   ]
  },
  {
   "cell_type": "code",
   "execution_count": 71,
   "id": "91bc9d53",
   "metadata": {},
   "outputs": [
    {
     "name": "stdout",
     "output_type": "stream",
     "text": [
      "Predicted values: [ 6727.55881753  7306.68887609 12213.70570359 18895.0555061 ]\n",
      "Actual values: [ 6295 10698 13860 13499]\n"
     ]
    }
   ],
   "source": [
    "print(\"Predicted values:\", y_predict[0:4])\n",
    "print(\"Actual values:\", y_test[0:4].values)"
   ]
  },
  {
   "cell_type": "markdown",
   "id": "3b4ff7dc",
   "metadata": {},
   "source": [
    "Using pollyplot function to display the `training data`, `testing data` and `predicted function`"
   ]
  },
  {
   "cell_type": "code",
   "execution_count": 72,
   "id": "6ab82cc5",
   "metadata": {},
   "outputs": [],
   "source": [
    "def PollyPlot(xtrain, xtest, y_train, y_test, lr_object,poly_transform):\n",
    "    width = 12\n",
    "    height = 10\n",
    "    plt.figure(figsize=(width, height))\n",
    "    \n",
    "    xmax=max([xtrain.values.max(), xtest.values.max()]) #picks whichever has the highest number and set that as max\n",
    "\n",
    "    xmin=min([xtrain.values.min(), xtest.values.min()])\n",
    "\n",
    "    x = np.arange(xmin, xmax, 0.1) # 0.1 is the spacing between values\n",
    "\n",
    "\n",
    "    plt.plot(xtrain, y_train, 'ro', label='Training Data')\n",
    "    plt.plot(xtest, y_test, 'go', label='Test Data')\n",
    "    plt.plot(x, lr_object.predict(poly_transform.fit_transform(x.reshape(-1, 1))), label='Predicted Function')\n",
    "    # x is the spacing of the x-axis value\n",
    "    plt.ylim([-10000, 60000])\n",
    "    plt.ylabel('Price')\n",
    "    plt.legend()"
   ]
  },
  {
   "cell_type": "code",
   "execution_count": 73,
   "id": "b66a2319",
   "metadata": {},
   "outputs": [
    {
     "data": {
      "image/png": "[encoded data removed]",
      "text/plain": [
       "<Figure size 864x720 with 1 Axes>"
      ]
     },
     "metadata": {
      "needs_background": "light"
     },
     "output_type": "display_data"
    }
   ],
   "source": [
    "PollyPlot(x_train[['horsepower']], x_test[['horsepower']], y_train, y_test, poly, pr)"
   ]
  },
  {
   "cell_type": "markdown",
   "id": "dca6284a",
   "metadata": {},
   "source": [
    "We see that the estimated function appears to track the data but around 200 horsepower, the function begins to diverge from the data points."
   ]
  },
  {
   "cell_type": "markdown",
   "id": "93b98b71",
   "metadata": {},
   "source": [
    "Checking the R^2 score of `training` data"
   ]
  },
  {
   "cell_type": "code",
   "execution_count": 39,
   "id": "d969d973",
   "metadata": {},
   "outputs": [
    {
     "data": {
      "text/plain": [
       "0.5568527854126266"
      ]
     },
     "execution_count": 39,
     "metadata": {},
     "output_type": "execute_result"
    }
   ],
   "source": [
    "poly.score(x_train_pr, y_train)"
   ]
  },
  {
   "cell_type": "markdown",
   "id": "65d683a4",
   "metadata": {},
   "source": [
    "Checking the R^2 score of `testing` data"
   ]
  },
  {
   "cell_type": "code",
   "execution_count": 40,
   "id": "0c475102",
   "metadata": {},
   "outputs": [
    {
     "data": {
      "text/plain": [
       "-29.815423890837582"
      ]
     },
     "execution_count": 40,
     "metadata": {},
     "output_type": "execute_result"
    }
   ],
   "source": [
    "poly.score(x_test_pr, y_test)"
   ]
  },
  {
   "cell_type": "markdown",
   "id": "bc5097ff",
   "metadata": {},
   "source": [
    "We see the R^2 for the training data is 0.5567 while the R^2 on the test data was -29.87.  The lower the R^2, the worse the model. A negative R^2 is a sign of overfitting."
   ]
  },
  {
   "cell_type": "markdown",
   "id": "f7df2e7b",
   "metadata": {},
   "source": [
    "Lets see how R^2 changes on the test data for different order of polynomials and plot the result using forloop"
   ]
  },
  {
   "cell_type": "code",
   "execution_count": 41,
   "id": "9753404a",
   "metadata": {},
   "outputs": [
    {
     "data": {
      "text/plain": [
       "Text(0.5, 1.0, 'R^2 Using Test Data')"
      ]
     },
     "execution_count": 41,
     "metadata": {},
     "output_type": "execute_result"
    },
    {
     "data": {
      "image/png": "[encoded data removed]",
      "text/plain": [
       "<Figure size 432x288 with 1 Axes>"
      ]
     },
     "metadata": {
      "needs_background": "light"
     },
     "output_type": "display_data"
    }
   ],
   "source": [
    "Rsqu_test = []\n",
    "\n",
    "order = [1, 2, 3, 4]\n",
    "for n in order:\n",
    "    pr = PolynomialFeatures(degree=n)\n",
    "    \n",
    "    x_train_pr = pr.fit_transform(x_train[['horsepower']])\n",
    "    x_test_pr = pr.fit_transform(x_test[['horsepower']])  \n",
    "    \n",
    "    poly = LinearRegression()\n",
    "    poly.fit(x_train_pr,y_train)\n",
    "    \n",
    "    Rsqu_test.append(poly.score(x_test_pr, y_test))\n",
    "\n",
    "plt.plot(order, Rsqu_test)\n",
    "plt.xlabel('order')\n",
    "plt.ylabel('R^2')\n",
    "plt.title('R^2 Using Test Data') "
   ]
  },
  {
   "cell_type": "markdown",
   "id": "54ce5ddb",
   "metadata": {},
   "source": [
    "We see the R^2 gradually increases until an order three polynomial is used. Then, the R^2 dramatically decreases at an order three polynomial."
   ]
  },
  {
   "cell_type": "markdown",
   "id": "ab6a655c",
   "metadata": {},
   "source": [
    "### Interactive polynomial graph"
   ]
  },
  {
   "cell_type": "code",
   "execution_count": 114,
   "id": "8b179fe6",
   "metadata": {},
   "outputs": [],
   "source": [
    "def interact_poly(order, test_data):\n",
    "    x_train, x_test, y_train, y_test = train_test_split(x_data, y_data, test_size=test_data, random_state=0)\n",
    "    \n",
    "    pr = PolynomialFeatures(degree=order)\n",
    "    x_train_pr = pr.fit_transform(x_train[['horsepower']])\n",
    "    x_test_pr = pr.fit_transform(x_test[['horsepower']])\n",
    "    \n",
    "    poly = LinearRegression()\n",
    "    poly.fit(x_train_pr,y_train)\n",
    "    \n",
    "    PollyPlot(x_train[['horsepower']], x_test[['horsepower']], y_train,y_test, poly, pr)"
   ]
  },
  {
   "cell_type": "code",
   "execution_count": 116,
   "id": "f15311e6",
   "metadata": {},
   "outputs": [
    {
     "data": {
      "application/vnd.jupyter.widget-view+json": {
       "model_id": "8181399cff93463eb1e1039e3416a415",
       "version_major": 2,
       "version_minor": 0
      },
      "text/plain": [
       "interactive(children=(IntSlider(value=3, description='order', max=6), FloatSlider(value=0.45, description='tes…"
      ]
     },
     "metadata": {},
     "output_type": "display_data"
    },
    {
     "data": {
      "text/plain": [
       "<function __main__.interact_poly(order, test_data)>"
      ]
     },
     "execution_count": 116,
     "metadata": {},
     "output_type": "execute_result"
    }
   ],
   "source": [
    "interact(interact_poly, order=(0, 6, 1), test_data=(0.05, 0.95, 0.05))"
   ]
  },
  {
   "cell_type": "markdown",
   "id": "d1e487f0",
   "metadata": {},
   "source": [
    "# Ridge Regression (Regularization)\n",
    "Ridge Regression uses `alpha` parameter to change the model.\n",
    "- Altering alpha will avoid overfitting\n",
    "- As alpha increase, the model becomes less sensitive to variations of independent variable (Line becomes more horizontal)\n",
    "In other words, we are shifting our model to\n",
    "- perform consistently well on both training and testing dataset\n",
    "- in return, the model performance will slightly be poorer."
   ]
  },
  {
   "cell_type": "markdown",
   "id": "68418ec4",
   "metadata": {},
   "source": [
    "Let's perform a degree two polynomial transformation on our data."
   ]
  },
  {
   "cell_type": "code",
   "execution_count": null,
   "id": "63c284f6",
   "metadata": {},
   "outputs": [],
   "source": [
    "pr=PolynomialFeatures(degree=2)\n",
    "x_train_pr=pr.fit_transform(x_train[['horsepower', 'curb-weight', 'engine-size', 'highway-mpg','normalized-losses','symboling']])\n",
    "x_test_pr=pr.fit_transform(x_test[['horsepower', 'curb-weight', 'engine-size', 'highway-mpg','normalized-losses','symboling']])"
   ]
  },
  {
   "cell_type": "markdown",
   "id": "55cfc8e0",
   "metadata": {},
   "source": [
    "Creating Ridge regression"
   ]
  },
  {
   "cell_type": "code",
   "execution_count": null,
   "id": "796a59b2",
   "metadata": {},
   "outputs": [],
   "source": [
    "from sklearn.linear_model import Ridge\n",
    "RigeModel=Ridge(alpha=1)\n",
    "RigeModel.fit(x_train_pr, y_train)"
   ]
  },
  {
   "cell_type": "code",
   "execution_count": null,
   "id": "2c5f1771",
   "metadata": {},
   "outputs": [],
   "source": [
    "y_predict = RigeModel.predict(x_test_pr)"
   ]
  },
  {
   "cell_type": "markdown",
   "id": "139a1223",
   "metadata": {},
   "source": [
    "Comparing the first five predicted samples to our test set"
   ]
  },
  {
   "cell_type": "code",
   "execution_count": null,
   "id": "229924dd",
   "metadata": {},
   "outputs": [],
   "source": [
    "print('predicted:', y_predict[0:4])\n",
    "print('test set :', y_test[0:4].values)"
   ]
  },
  {
   "cell_type": "markdown",
   "id": "46b5c761",
   "metadata": {},
   "source": [
    "# Grid Search\n",
    "The term `Alpha` is called hyperparameter and `GridSearchCV` makes the process of finding the best hyperparameter simpler"
   ]
  },
  {
   "cell_type": "code",
   "execution_count": null,
   "id": "1ecacb99",
   "metadata": {},
   "outputs": [],
   "source": [
    "from sklearn.model_selection import GridSearchCV"
   ]
  },
  {
   "cell_type": "code",
   "execution_count": null,
   "id": "9d8fbf20",
   "metadata": {},
   "outputs": [],
   "source": [
    "parameters1= [{'alpha': [0.001,0.1,1, 10, 100, 1000, 10000, 100000, 1000000]}]\n",
    "parameters1"
   ]
  },
  {
   "cell_type": "markdown",
   "id": "7ae25ef0",
   "metadata": {},
   "source": [
    "Creating Ridge regression object"
   ]
  },
  {
   "cell_type": "code",
   "execution_count": null,
   "id": "0d6e4566",
   "metadata": {},
   "outputs": [],
   "source": [
    "RR=Ridge()\n",
    "RR"
   ]
  },
  {
   "cell_type": "markdown",
   "id": "3b32203b",
   "metadata": {},
   "source": [
    "Creating Ridge Grid Search object"
   ]
  },
  {
   "cell_type": "code",
   "execution_count": null,
   "id": "564802b6",
   "metadata": {},
   "outputs": [],
   "source": [
    "Grid1 = GridSearchCV(RR, parameters1,cv=4)"
   ]
  },
  {
   "cell_type": "markdown",
   "id": "bf6887c0",
   "metadata": {},
   "source": [
    "Fit the model"
   ]
  },
  {
   "cell_type": "code",
   "execution_count": null,
   "id": "58300bb7",
   "metadata": {},
   "outputs": [],
   "source": [
    "Grid1.fit(x_train[['horsepower', 'curb-weight', 'engine-size', 'highway-mpg']], y_train)"
   ]
  },
  {
   "cell_type": "code",
   "execution_count": null,
   "id": "22c07745",
   "metadata": {},
   "outputs": [],
   "source": [
    "scores = Grid1.cv_results_\n",
    "scores['mean_test_score']"
   ]
  },
  {
   "cell_type": "markdown",
   "id": "a8d21dad",
   "metadata": {},
   "source": [
    "The object finds the best parameter values."
   ]
  },
  {
   "cell_type": "code",
   "execution_count": null,
   "id": "32e918bb",
   "metadata": {},
   "outputs": [],
   "source": [
    "BestRR=Grid1.best_estimator_\n",
    "BestRR"
   ]
  },
  {
   "cell_type": "markdown",
   "id": "be0afd15",
   "metadata": {},
   "source": [
    "We can now test our model on the test data"
   ]
  },
  {
   "cell_type": "code",
   "execution_count": null,
   "id": "ca8da680",
   "metadata": {},
   "outputs": [],
   "source": [
    "BestRR.score(x_test[['horsepower', 'curb-weight', 'engine-size', 'highway-mpg']], y_test)"
   ]
  },
  {
   "cell_type": "code",
   "execution_count": null,
   "id": "a956e52b",
   "metadata": {},
   "outputs": [],
   "source": []
  }
 ],
 "metadata": {
  "kernelspec": {
   "display_name": "Python 3",
   "language": "python",
   "name": "python3"
  },
  "language_info": {
   "codemirror_mode": {
    "name": "ipython",
    "version": 3
   },
   "file_extension": ".py",
   "mimetype": "text/x-python",
   "name": "python",
   "nbconvert_exporter": "python",
   "pygments_lexer": "ipython3",
   "version": "3.8.8"
  }
 },
 "nbformat": 4,
 "nbformat_minor": 5
}
